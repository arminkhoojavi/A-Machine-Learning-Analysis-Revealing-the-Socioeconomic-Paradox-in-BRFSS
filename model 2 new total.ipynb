{
 "cells": [
  {
   "cell_type": "code",
   "execution_count": 26,
   "id": "64cae3d8",
   "metadata": {},
   "outputs": [],
   "source": [
    "import pandas as pd\n",
    "import numpy as np\n",
    "import lightgbm as lgb\n",
    "from sklearn.ensemble import StackingClassifier\n",
    "import xgboost as xgb\n",
    "from sklearn.model_selection import train_test_split\n",
    "from sklearn.pipeline import Pipeline\n",
    "from sklearn.compose import ColumnTransformer\n",
    "from sklearn.preprocessing import StandardScaler, OneHotEncoder, LabelEncoder\n",
    "from sklearn.linear_model import LogisticRegression\n",
    "from sklearn.metrics import roc_auc_score, f1_score, accuracy_score\n",
    "from scipy.optimize import minimize\n",
    "\n",
    "import warnings\n",
    "warnings.filterwarnings(\"ignore\", category=DeprecationWarning)\n",
    "warnings.filterwarnings(\"ignore\", category=UserWarning)\n",
    "warnings.filterwarnings(\"ignore\")\n"
   ]
  },
  {
   "cell_type": "code",
   "execution_count": 15,
   "id": "b46d80e8",
   "metadata": {},
   "outputs": [],
   "source": [
    "df = pd.read_csv(\"df.csv\")\n"
   ]
  },
  {
   "cell_type": "code",
   "execution_count": 16,
   "id": "919c8a74",
   "metadata": {},
   "outputs": [],
   "source": [
    "numerical_features = [\n",
    "    'x_llcpwt','x_age80','x_bmi5','weight2','wtkg3','height3',\n",
    "    'children','hhadult','alcday5','menthlth','physhlth'\n",
    "]\n",
    "\n",
    "categorical_features = [\n",
    "    'smoke100','x_bmi5cat','genhlth','x_age_g','x_asthms1','x_ltasth1','x_casthm1',\n",
    "    'x_totinda','exerany2','x_ment14d','x_phys14d','sex1','x_imprace','x_prace1','x_racegr3',\n",
    "    'x_educag','educa','marital','x_incomg','x_metstat','x_urbstat','employ1','x_state',\n",
    "    'persdoc2','checkup1','cvdinfr4','cvdcrhd4','cvdstrk3','asthma3','chccopd1','havarth3','addepev2',\n",
    "    'chckdny1','diabete3','diffwalk','pneuvac4','x_rfhlth','x_rfsmok3','x_ageg5yr'\n",
    "]\n",
    "categorical_features.remove(\"smoke100\")\n",
    "categorical_features.remove(\"x_rfsmok3\")\n",
    "numerical_features.remove(\"x_llcpwt\")\n",
    "\n",
    "features = numerical_features + categorical_features\n"
   ]
  },
  {
   "cell_type": "code",
   "execution_count": 17,
   "id": "f355812b",
   "metadata": {},
   "outputs": [],
   "source": [
    "preprocessor = ColumnTransformer(\n",
    "    transformers=[('num', StandardScaler(), numerical_features),\n",
    "                  ('cat', OneHotEncoder(handle_unknown='ignore'), categorical_features)])\n"
   ]
  },
  {
   "cell_type": "markdown",
   "id": "6556390b",
   "metadata": {},
   "source": [
    "## روش آنسامبل زمانی (Temporal Ensemble)"
   ]
  },
  {
   "cell_type": "markdown",
   "id": "2be0e22c",
   "metadata": {},
   "source": [
    "در این روش، ما برای هر سال یک مدل جداگانه آموزش می‌دهیم و سپس پیش‌بینی‌هایشان را با هم ترکیب می‌کنیم."
   ]
  },
  {
   "cell_type": "code",
   "execution_count": 18,
   "id": "6a823cd3",
   "metadata": {},
   "outputs": [],
   "source": [
    "train_df, test_df = train_test_split(df, test_size=0.25, random_state=42, stratify=df['x_smoker3'])\n",
    "X_test = test_df[features]\n",
    "y_test_raw = test_df['x_smoker3']\n",
    "le = LabelEncoder().fit(train_df['x_smoker3']) \n",
    "y_test = le.transform(y_test_raw)\n"
   ]
  },
  {
   "cell_type": "code",
   "execution_count": 19,
   "id": "f79eec7e",
   "metadata": {},
   "outputs": [
    {
     "name": "stdout",
     "output_type": "stream",
     "text": [
      "model train for 2018\n",
      "[LightGBM] [Info] Number of positive: 88887, number of negative: 45761\n",
      "[LightGBM] [Info] Total Bins 1496\n",
      "[LightGBM] [Info] Number of data points in the train set: 134648, number of used features: 231\n",
      "[LightGBM] [Info] [binary:BoostFromScore]: pavg=0.660143 -> initscore=0.663934\n",
      "[LightGBM] [Info] Start training from score 0.663934\n",
      "model train for 2019\n",
      "[LightGBM] [Info] Number of positive: 83790, number of negative: 42383\n",
      "[LightGBM] [Info] Total Bins 1483\n",
      "[LightGBM] [Info] Number of data points in the train set: 126173, number of used features: 228\n",
      "[LightGBM] [Info] [binary:BoostFromScore]: pavg=0.664088 -> initscore=0.681566\n",
      "[LightGBM] [Info] Start training from score 0.681566\n",
      "model train for 2020\n",
      "[LightGBM] [Info] Number of positive: 78050, number of negative: 39341\n",
      "[LightGBM] [Info] Total Bins 1491\n",
      "[LightGBM] [Info] Number of data points in the train set: 117391, number of used features: 229\n",
      "[LightGBM] [Info] [binary:BoostFromScore]: pavg=0.664872 -> initscore=0.685082\n",
      "[LightGBM] [Info] Start training from score 0.685082\n",
      "model train for 2021\n",
      "[LightGBM] [Info] Number of positive: 85095, number of negative: 40459\n",
      "[LightGBM] [Info] Total Bins 1497\n",
      "[LightGBM] [Info] Number of data points in the train set: 125554, number of used features: 231\n",
      "[LightGBM] [Info] [binary:BoostFromScore]: pavg=0.677756 -> initscore=0.743479\n",
      "[LightGBM] [Info] Start training from score 0.743479\n",
      "model train for 2022\n",
      "[LightGBM] [Info] Number of positive: 85233, number of negative: 37517\n",
      "[LightGBM] [Info] Total Bins 1512\n",
      "[LightGBM] [Info] Number of data points in the train set: 122750, number of used features: 232\n",
      "[LightGBM] [Info] [binary:BoostFromScore]: pavg=0.694363 -> initscore=0.820595\n",
      "[LightGBM] [Info] Start training from score 0.820595\n",
      "model train for 2023\n",
      "[LightGBM] [Info] Number of positive: 84839, number of negative: 33865\n",
      "[LightGBM] [Info] Total Bins 1507\n",
      "[LightGBM] [Info] Number of data points in the train set: 118704, number of used features: 232\n",
      "[LightGBM] [Info] [binary:BoostFromScore]: pavg=0.714711 -> initscore=0.918373\n",
      "[LightGBM] [Info] Start training from score 0.918373\n",
      "\n",
      " models train completed!\n"
     ]
    }
   ],
   "source": [
    "preprocessor_fitted = ColumnTransformer(\n",
    "    transformers=[\n",
    "        ('num', StandardScaler(), numerical_features),\n",
    "        ('cat', OneHotEncoder(handle_unknown='ignore'), categorical_features)\n",
    "    ],\n",
    "    remainder='passthrough'\n",
    ")\n",
    "preprocessor_fitted.fit(train_df[features])\n",
    "\n",
    "\n",
    "trained_temporal_models = {}\n",
    "available_years = sorted(train_df['year'].unique())\n",
    "\n",
    "for year in available_years:\n",
    "    print(f\"model train for {year}\")\n",
    "    \n",
    "    df_year_train = train_df.loc[train_df['year'] == year].copy()\n",
    "    if df_year_train.empty:\n",
    "        continue\n",
    "    \n",
    "    X_year_train = df_year_train[features]\n",
    "    y_year_train = le.transform(df_year_train['x_smoker3'])\n",
    "    \n",
    "    model = lgb.LGBMClassifier(random_state=42, force_col_wise=True)\n",
    "    \n",
    "    X_year_train_transformed = preprocessor_fitted.transform(X_year_train)\n",
    "    model.fit(X_year_train_transformed, y_year_train)\n",
    "    trained_temporal_models[year] = model\n",
    "print(\"\\n models train completed!\")\n"
   ]
  },
  {
   "cell_type": "code",
   "execution_count": 20,
   "id": "43d63d6c",
   "metadata": {},
   "outputs": [
    {
     "name": "stdout",
     "output_type": "stream",
     "text": [
      "combine and predict Temporal Ensemble\n",
      "\n",
      "result of Temporal Ensemble with mean:\n",
      "AUC: 0.7852\n",
      "Accuracy: 0.7435\n",
      "F1: 0.7316\n",
      "\n",
      "result of Temporal Ensemble with weighted\n",
      "امتیاز AUC: 0.7855\n",
      "دقت (Accuracy): 0.7435\n",
      "امتیاز F1 (Weighted): 0.7300\n",
      "\n",
      "compare Temporal Ensemble with sample/weighted mean:\n",
      "                                AUC  Accuracy  F1-Score\n",
      "Method                                                 \n",
      "Simple Average Ensemble    0.785189  0.743469  0.731618\n",
      "Weighted Average Ensemble  0.785549  0.743481  0.729952\n"
     ]
    }
   ],
   "source": [
    "# evaluate\n",
    "print(\"combine and predict Temporal Ensemble\")\n",
    "X_test_transformed = preprocessor_fitted.transform(X_test)\n",
    "\n",
    "predictions_per_model = {}\n",
    "for year, model in trained_temporal_models.items():\n",
    "    predictions_per_model[year] = model.predict_proba(X_test_transformed)[:, 1]\n",
    "\n",
    "predictions_df = pd.DataFrame(predictions_per_model)\n",
    "\n",
    "\n",
    "# method 1 : Temporal Ensemble with sample mean\n",
    "print(\"\\nresult of Temporal Ensemble with mean:\")\n",
    "y_pred_proba_simple = predictions_df.mean(axis=1)\n",
    "\n",
    "y_pred_class_simple = (y_pred_proba_simple > 0.5).astype(int)\n",
    "\n",
    "auc_simple = roc_auc_score(y_test, y_pred_proba_simple)\n",
    "accuracy_simple = accuracy_score(y_test, y_pred_class_simple)\n",
    "f1_simple = f1_score(y_test, y_pred_class_simple, average='weighted')\n",
    "\n",
    "print(f\"AUC: {auc_simple:.4f}\")\n",
    "print(f\"Accuracy: {accuracy_simple:.4f}\")\n",
    "print(f\"F1: {f1_simple:.4f}\")\n",
    "\n",
    "\n",
    "# method 2 : Temporal Ensemble with weights mean\n",
    "print(\"\\nresult of Temporal Ensemble with weighted\")\n",
    "\n",
    "# weight : 2018,2019,2020,2021,2022,2023\n",
    "weights_temporal = np.array([0.05, 0.1, 0.1, 0.2, 0.25, 0.3])\n",
    "y_pred_proba_weighted = np.average(predictions_df, axis=1, weights=weights_temporal)\n",
    "\n",
    "y_pred_class_weighted = (y_pred_proba_weighted > 0.5).astype(int)\n",
    "\n",
    "auc_weighted = roc_auc_score(y_test, y_pred_proba_weighted)\n",
    "accuracy_weighted = accuracy_score(y_test, y_pred_class_weighted)\n",
    "f1_weighted = f1_score(y_test, y_pred_class_weighted, average='weighted')\n",
    "\n",
    "print(f\"امتیاز AUC: {auc_weighted:.4f}\")\n",
    "print(f\"دقت (Accuracy): {accuracy_weighted:.4f}\")\n",
    "print(f\"امتیاز F1 (Weighted): {f1_weighted:.4f}\")\n",
    "\n",
    "\n",
    "# compare result of Temporal Ensemble\n",
    "comparison_data = {\n",
    "    'Method': ['Simple Average Ensemble', 'Weighted Average Ensemble'],\n",
    "    'AUC': [auc_simple, auc_weighted],\n",
    "    'Accuracy': [accuracy_simple, accuracy_weighted],\n",
    "    'F1-Score': [f1_simple, f1_weighted]\n",
    "}\n",
    "comparison_df = pd.DataFrame(comparison_data).set_index('Method')\n",
    "print(\"\\ncompare Temporal Ensemble with sample/weighted mean:\")\n",
    "print(comparison_df)\n"
   ]
  },
  {
   "cell_type": "code",
   "execution_count": 29,
   "id": "f0e40094",
   "metadata": {},
   "outputs": [
    {
     "name": "stdout",
     "output_type": "stream",
     "text": [
      "بهینه‌سازی موفق بود.\n",
      "بهترین وزن‌های پیدا شده: [0.167 0.167 0.167 0.167 0.167 0.167]\n",
      "بهترین امتیاز AUC روی مجموعه اعتبارسنجی: 0.7882\n",
      "امتیاز AUC: 0.7852\n",
      "دقت (Accuracy): 0.7435\n",
      "امتیاز F1 (Weighted): 0.7316\n"
     ]
    }
   ],
   "source": [
    "train_sub_df, validation_df = train_test_split(train_df, test_size=0.2, random_state=42, stratify=train_df['x_smoker3'])\n",
    "\n",
    "X_val = validation_df[features]\n",
    "y_val_raw = validation_df['x_smoker3']\n",
    "y_val = le.transform(y_val_raw)\n",
    "\n",
    "# --- گام ۱: دریافت پیش‌بینی‌ها روی داده‌های اعتبارسنجی ---\n",
    "X_val_transformed = preprocessor_fitted.transform(X_val)\n",
    "predictions_per_model_val = {}\n",
    "for year, model in trained_temporal_models.items():\n",
    "    predictions_per_model_val[year] = model.predict_proba(X_val_transformed)[:, 1]\n",
    "\n",
    "predictions_df_val = pd.DataFrame(predictions_per_model_val)\n",
    "\n",
    "# --- گام ۲: تعریف تابع هدف، محدودیت‌ها و اجرای بهینه‌ساز ---\n",
    "\n",
    "def objective_function(weights, predictions, true_labels):\n",
    "    \"\"\"تابع هدف که 1 منهای AUC را برمی‌گرداند تا کمینه شود.\"\"\"\n",
    "    y_pred_ensemble = np.average(predictions, axis=1, weights=weights)\n",
    "    auc = roc_auc_score(true_labels, y_pred_ensemble)\n",
    "    return 1 - auc\n",
    "\n",
    "num_models = len(available_years)\n",
    "bounds = tuple([(0, 1) for _ in range(num_models)]) # هر وزن بین 0 و 1\n",
    "constraints = ({'type': 'eq', 'fun': lambda w: np.sum(w) - 1}) # جمع وزن‌ها برابر با 1\n",
    "initial_guess = np.array([1/num_models] * num_models) # حدس اولیه با وزن‌های برابر\n",
    "\n",
    "optimization_result = minimize(\n",
    "    fun=objective_function,\n",
    "    x0=initial_guess,\n",
    "    args=(predictions_df_val, y_val), # ارسال داده‌ها به تابع هدف\n",
    "    method='SLSQP',\n",
    "    bounds=bounds,\n",
    "    constraints=constraints\n",
    ")\n",
    "\n",
    "# --- گام ۳: استخراج و نمایش نتایج بهینه‌سازی ---\n",
    "if optimization_result.success:\n",
    "    optimized_weights = optimization_result.x\n",
    "    best_auc_on_val = 1 - optimization_result.fun\n",
    "    print(\"بهینه‌سازی موفق بود.\")\n",
    "    print(f\"بهترین وزن‌های پیدا شده: {np.round(optimized_weights, 3)}\")\n",
    "    print(f\"بهترین امتیاز AUC روی مجموعه اعتبارسنجی: {best_auc_on_val:.4f}\")\n",
    "else:\n",
    "    print(\"بهینه‌سازی با شکست مواجه شد. از وزن‌های پیش‌فرض استفاده می‌شود.\")\n",
    "    print(optimization_result.message)\n",
    "    optimized_weights = initial_guess # در صورت شکست، از وزن‌های برابر استفاده کن\n",
    "\n",
    "\n",
    "# --- گام ۴: ارزیابی نهایی با وزن‌های بهینه شده روی مجموعه تست (Test Set) ---\n",
    "y_pred_proba_optimized = np.average(predictions_df, axis=1, weights=optimized_weights)\n",
    "y_pred_class_optimized = (y_pred_proba_optimized > 0.5).astype(int)\n",
    "\n",
    "auc_optimized = roc_auc_score(y_test, y_pred_proba_optimized)\n",
    "accuracy_optimized = accuracy_score(y_test, y_pred_class_optimized)\n",
    "f1_optimized = f1_score(y_test, y_pred_class_optimized, average='weighted')\n",
    "\n",
    "print(f\"امتیاز AUC: {auc_optimized:.4f}\")\n",
    "print(f\"دقت (Accuracy): {accuracy_optimized:.4f}\")\n",
    "print(f\"امتیاز F1 (Weighted): {f1_optimized:.4f}\")\n",
    "\n"
   ]
  },
  {
   "cell_type": "code",
   "execution_count": 30,
   "id": "9cbd481c",
   "metadata": {},
   "outputs": [
    {
     "name": "stdout",
     "output_type": "stream",
     "text": [
      "compare Temporal Ensemble with sample/weighted mean & optimized weights:\n",
      "                                  AUC  Accuracy  F1-Score\n",
      "Method                                                   \n",
      "Hardcoded Weighted Ensemble  0.785549  0.743481  0.729952\n",
      "Simple Average Ensemble      0.785189  0.743469  0.731618\n",
      "Optimized Weighted Ensemble  0.785189  0.743469  0.731618\n"
     ]
    }
   ],
   "source": [
    "comparison_data_full = {\n",
    "    'Method': ['Simple Average Ensemble', 'Hardcoded Weighted Ensemble', 'Optimized Weighted Ensemble'],\n",
    "    'AUC': [auc_simple, auc_weighted, auc_optimized],\n",
    "    'Accuracy': [accuracy_simple, accuracy_weighted, accuracy_optimized],\n",
    "    'F1-Score': [f1_simple, f1_weighted, f1_optimized]\n",
    "}\n",
    "comparison_df_full = pd.DataFrame(comparison_data_full).set_index('Method')\n",
    "print(\"compare Temporal Ensemble with sample/weighted mean & optimized weights:\")\n",
    "print(comparison_df_full.sort_values(by='AUC', ascending=False))\n"
   ]
  },
  {
   "cell_type": "code",
   "execution_count": null,
   "id": "360896ee",
   "metadata": {},
   "outputs": [],
   "source": []
  },
  {
   "cell_type": "markdown",
   "id": "e04cb3c4",
   "metadata": {},
   "source": [
    "# روش انباشت Stacking (Stacking Ensemble) "
   ]
  },
  {
   "cell_type": "code",
   "execution_count": 21,
   "id": "c6d3dd85",
   "metadata": {},
   "outputs": [
    {
     "name": "stdout",
     "output_type": "stream",
     "text": [
      "[LightGBM] [Info] Number of positive: 505894, number of negative: 239326\n",
      "[LightGBM] [Info] Total Bins 1523\n",
      "[LightGBM] [Info] Number of data points in the train set: 745220, number of used features: 237\n",
      "[LightGBM] [Info] [binary:BoostFromScore]: pavg=0.678852 -> initscore=0.748501\n",
      "[LightGBM] [Info] Start training from score 0.748501\n",
      "[LightGBM] [Info] Number of positive: 404715, number of negative: 191461\n",
      "[LightGBM] [Info] Total Bins 1530\n",
      "[LightGBM] [Info] Number of data points in the train set: 596176, number of used features: 237\n",
      "[LightGBM] [Info] [binary:BoostFromScore]: pavg=0.678852 -> initscore=0.748499\n",
      "[LightGBM] [Info] Start training from score 0.748499\n",
      "[LightGBM] [Info] Number of positive: 404715, number of negative: 191461\n",
      "[LightGBM] [Info] Total Bins 1528\n",
      "[LightGBM] [Info] Number of data points in the train set: 596176, number of used features: 237\n",
      "[LightGBM] [Info] [binary:BoostFromScore]: pavg=0.678852 -> initscore=0.748499\n",
      "[LightGBM] [Info] Start training from score 0.748499\n",
      "[LightGBM] [Info] Number of positive: 404715, number of negative: 191461\n",
      "[LightGBM] [Info] Total Bins 1528\n",
      "[LightGBM] [Info] Number of data points in the train set: 596176, number of used features: 237\n",
      "[LightGBM] [Info] [binary:BoostFromScore]: pavg=0.678852 -> initscore=0.748499\n",
      "[LightGBM] [Info] Start training from score 0.748499\n",
      "[LightGBM] [Info] Number of positive: 404715, number of negative: 191461\n",
      "[LightGBM] [Info] Total Bins 1523\n",
      "[LightGBM] [Info] Number of data points in the train set: 596176, number of used features: 237\n",
      "[LightGBM] [Info] [binary:BoostFromScore]: pavg=0.678852 -> initscore=0.748499\n",
      "[LightGBM] [Info] Start training from score 0.748499\n",
      "[LightGBM] [Info] Number of positive: 404716, number of negative: 191460\n",
      "[LightGBM] [Info] Total Bins 1523\n",
      "[LightGBM] [Info] Number of data points in the train set: 596176, number of used features: 237\n",
      "[LightGBM] [Info] [binary:BoostFromScore]: pavg=0.678853 -> initscore=0.748507\n",
      "[LightGBM] [Info] Start training from score 0.748507\n",
      "Stacking model trained!\n"
     ]
    }
   ],
   "source": [
    "X_train_for_stacking = train_df[features]\n",
    "y_train_for_stacking = le.transform(train_df['x_smoker3'])\n",
    "\n",
    "base_models = [('lgbm', lgb.LGBMClassifier(random_state=42, force_col_wise=True)),\n",
    "               ('xgb', xgb.XGBClassifier(random_state=42, eval_metric='logloss'))]\n",
    "\n",
    "stacked_pipelines = []\n",
    "for name, model in base_models:\n",
    "    pipeline = Pipeline(steps=[('preprocessor', preprocessor), ('classifier', model)])\n",
    "    stacked_pipelines.append((name, pipeline))\n",
    "\n",
    "meta_model = LogisticRegression()\n",
    "stacking_model = StackingClassifier(estimators=stacked_pipelines, final_estimator=meta_model, cv=5)\n",
    "\n",
    "stacking_model.fit(X_train_for_stacking, y_train_for_stacking)\n",
    "print(\"Stacking model trained!\")\n"
   ]
  },
  {
   "cell_type": "code",
   "execution_count": 22,
   "id": "92b13161",
   "metadata": {},
   "outputs": [
    {
     "name": "stdout",
     "output_type": "stream",
     "text": [
      "Staking evaluate results:\n",
      "AUC: 0.7881\n",
      "Accuracy: 0.7446\n",
      "F1: 0.7330\n",
      "meta-model coeff (lgbm, xgb) [[2.49886214 2.66476161]]\n"
     ]
    }
   ],
   "source": [
    "y_pred_stacking_proba = stacking_model.predict_proba(X_test)[:, 1]\n",
    "y_pred_stacking_class = stacking_model.predict(X_test)\n",
    "\n",
    "print(\"Staking evaluate results:\")\n",
    "print(f\"AUC: {roc_auc_score(y_test, y_pred_stacking_proba):.4f}\")\n",
    "print(f\"Accuracy: {accuracy_score(y_test, y_pred_stacking_class):.4f}\")\n",
    "print(f\"F1: {f1_score(y_test, y_pred_stacking_class, average='weighted'):.4f}\")\n",
    "\n",
    "\n",
    "final_meta_model = stacking_model.final_estimator_\n",
    "# ضرایب متا-مدل\n",
    "print(\"meta-model coeff (lgbm, xgb)\", final_meta_model.coef_)\n"
   ]
  },
  {
   "cell_type": "markdown",
   "id": "1c4fc7eb",
   "metadata": {},
   "source": [
    "این ضرایب به شما می‌گویند که متا-مدل چقدر به پیش‌بینی‌های هر یک از مدل‌های پایه \"وزن\" یا \"اهمیت\" داده است."
   ]
  }
 ],
 "metadata": {
  "kernelspec": {
   "display_name": "base",
   "language": "python",
   "name": "python3"
  },
  "language_info": {
   "codemirror_mode": {
    "name": "ipython",
    "version": 3
   },
   "file_extension": ".py",
   "mimetype": "text/x-python",
   "name": "python",
   "nbconvert_exporter": "python",
   "pygments_lexer": "ipython3",
   "version": "3.12.7"
  }
 },
 "nbformat": 4,
 "nbformat_minor": 5
}
