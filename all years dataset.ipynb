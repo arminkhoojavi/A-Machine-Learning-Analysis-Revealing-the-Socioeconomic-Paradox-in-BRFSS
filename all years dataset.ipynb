{
 "cells": [
  {
   "cell_type": "code",
   "execution_count": null,
   "id": "df513afa",
   "metadata": {},
   "outputs": [],
   "source": [
    "# !gdown --id 1QdtD7qctXKLLQVNvM47L2WMh_BjxZ1D9\n",
    "# !gdown --id 1gTmk3uUMlpzOe6pT3qCeHuJcN-fwCYfN\n",
    "# !gdown --id 1X1YoZwy-AoWo-LwdFJGkqrtikLYxGFBH\n",
    "# !gdown --id 1GvRUJXPoql-22ufdE314VyK5BotH3QjF\n",
    "# !gdown --id 1_EKAW3PpSVbAR3cTAYO5qTg8yHnxHzKI\n",
    "# !gdown --id 1NxpQ3Ukr5X7DHhb1z4jkwPN3HqBDV7-s\n"
   ]
  },
  {
   "cell_type": "code",
   "execution_count": 1,
   "id": "9e556acc",
   "metadata": {},
   "outputs": [],
   "source": [
    "import numpy as np\n",
    "import pandas as pd\n"
   ]
  },
  {
   "cell_type": "code",
   "execution_count": null,
   "id": "8520d791",
   "metadata": {},
   "outputs": [],
   "source": [
    "# import zipfile\n",
    "# import os\n",
    "\n",
    "# # path = '/content/drive/MyDrive/Colab Notebooks/'\n",
    "# path = '/kaggle/working/'\n",
    "# zip_filenames = ['BRFSS2018.zip','BRFSS2019.zip','BRFSS2020.zip','BRFSS2021.zip','BRFSS2022.zip','BRFSS2023.zip']\n",
    "# for zip_filename in zip_filenames:\n",
    "#     if not os.path.exists(path + zip_filename):\n",
    "#         print(f\"not find {zip_filename}\")\n",
    "#     else:\n",
    "#         try:\n",
    "#             with zipfile.ZipFile(path + zip_filename, 'r') as zip_ref:\n",
    "#                 zip_ref.extractall()\n",
    "#             print(f\"extract completed {path + zip_filename}\")\n",
    "\n",
    "#         except zipfile.BadZipFile:\n",
    "#             print(\"file not find\")\n",
    "#         except Exception as e:\n",
    "#             print(f\"exception {e}\")\n"
   ]
  },
  {
   "cell_type": "markdown",
   "id": "f3713d20",
   "metadata": {},
   "source": [
    "# preprocessing in datasets"
   ]
  },
  {
   "cell_type": "code",
   "execution_count": 2,
   "id": "18fd52be",
   "metadata": {},
   "outputs": [],
   "source": [
    "replacement_dict = {\n",
    "    'x_smoker3' : [9],\n",
    "    'weight2': [7777, 9999],\n",
    "    'height3': [7777, 9999],\n",
    "    'children': [99],\n",
    "    'hhadult': [77, 99],\n",
    "    'alcday5': [777, 999],\n",
    "    'menthlth': [77, 99],\n",
    "    'physhlth': [77, 99],\n",
    "    'poorhlth': [77, 99],\n",
    "    'smoke100': [7, 9],\n",
    "    'genhlth': [7, 9],\n",
    "    '_smoker3': [9],\n",
    "    'stopsmk2': [7, 9, 77, 99],\n",
    "    '_asthms1': [9],\n",
    "    '_ltasth1': [9],\n",
    "    '_casthm1': [9],\n",
    "    '_totinda': [9],\n",
    "    'exerany2': [7, 9],\n",
    "    '_ment14d': [9],\n",
    "    '_phys14d': [9],\n",
    "    '_prace1': [77, 99],\n",
    "    'educa': [9],\n",
    "    '_educag': [9],\n",
    "    'marital': [9],\n",
    "    'incomg2': [77, 99],\n",
    "    '_incomg': [9],\n",
    "    'employ1': [9],\n",
    "    'persdoc2': [7, 9],\n",
    "    'checkup1': [7, 9],\n",
    "    'cvdinfr4': [7, 9],\n",
    "    'cvdcrhd4': [7, 9],\n",
    "    'cvdstrk3': [7, 9],\n",
    "    'asthma3': [7, 9],\n",
    "    'chccopd1': [7, 9],\n",
    "    'havarth3': [7, 9],\n",
    "    'addepev2': [7, 9],\n",
    "    'chckdny1': [7, 9],\n",
    "    'diabete3': [7, 9],\n",
    "    'diffwalk': [7, 9],\n",
    "    'pneuvac4': [7, 9],\n",
    "    '_rfhlth': [9],\n",
    "    '_rfsmok3': [9]\n",
    "}\n"
   ]
  },
  {
   "cell_type": "code",
   "execution_count": 3,
   "id": "43df0630",
   "metadata": {},
   "outputs": [],
   "source": [
    "cols = [\"x_smoker3\", \"x_llcpwt\", \"stopsmk2\", \"smokday2\", \"smoke100\", \"lastsmk2\", \"x_bmi5\", \"x_bmi5cat\", \"menthlth\", \"physhlth\",\n",
    "         \"poorhlth\", \"genhlth\", \"cadult\", \"numadult\", \"hhadult\", \"x_age_g\", \"x_age80\", \"x_exteth3\",\n",
    "         \"x_alteth3\", \"x_asthms1\", \"x_totinda\", \"x_ment14d\", \"x_phys14d\", \"copdbrth\", \"copdcogh\", \"sex1\", \"rmvteth4\",\n",
    "         \"x_imprace\", \"x_educag\", \"marital\", \"x_incomg\", \"x_metstat\", \"x_urbstat\", \"employ1\", \"x_state\", \"weight2\",\n",
    "         \"persdoc2\", \"checkup1\", \"pvtresd1\", \"exerany2\", \"sleptim1\", \"cvdinfr4\", \"cvdcrhd4\", \"cvdstrk3\",\n",
    "         \"asthma3\", \"chccopd1\", \"havarth3\", \"addepev2\", \"chckdny1\", \"diabete3\", \"educa\", \"children\", \"height3\",\n",
    "         \"diffwalk\", \"alcday5\", \"pneuvac4\", \"profexam\", \"lengexam\", \"sofemale\", \"somale\", \"casthdx2\", \"x_rfhlth\",\n",
    "         \"x_ltasth1\", \"x_casthm1\", \"x_prace1\", \"x_racegr3\", \"x_ageg5yr\", \"wtkg3\", \"x_rfsmok3\"]\n"
   ]
  },
  {
   "cell_type": "code",
   "execution_count": 13,
   "id": "be78b8c2",
   "metadata": {},
   "outputs": [],
   "source": [
    "res_na = ['x_smoker3', 'x_llcpwt', 'smoke100', 'x_bmi5', 'x_bmi5cat', 'menthlth',\n",
    "       'physhlth', 'genhlth', 'hhadult', 'x_age_g', 'x_age80', 'x_asthms1',\n",
    "       'x_totinda', 'x_ment14d', 'x_phys14d', 'sex1', 'x_imprace', 'x_educag',\n",
    "       'marital', 'x_incomg', 'x_metstat', 'x_urbstat', 'employ1', 'x_state',\n",
    "       'weight2', 'persdoc2', 'checkup1', 'exerany2', 'cvdinfr4', 'cvdcrhd4',\n",
    "       'cvdstrk3', 'asthma3', 'chccopd1', 'havarth3', 'addepev2', 'chckdny1',\n",
    "       'diabete3', 'educa', 'children', 'height3', 'diffwalk', 'alcday5',\n",
    "       'pneuvac4', 'x_rfhlth', 'x_ltasth1', 'x_casthm1', 'x_prace1',\n",
    "       'x_racegr3', 'x_ageg5yr', 'wtkg3', 'x_rfsmok3']\n"
   ]
  },
  {
   "cell_type": "code",
   "execution_count": 4,
   "id": "622cc114",
   "metadata": {},
   "outputs": [],
   "source": [
    "def process_smoker_data(df):    \n",
    "    values_to_remove = [4, 9, np.nan] \n",
    "    df['x_smoker3'].replace(values_to_remove, np.nan, inplace=True)\n",
    "    df.dropna(subset=['x_smoker3'], inplace=True)\n",
    "    df['x_smoker3'] = df['x_smoker3'].astype(int)\n",
    "    mapping_dict = {\n",
    "        1: 0, # سیگاری فعلی (هر روز)\n",
    "        2: 0, # سیگاری فعلی (بعضی روزها)\n",
    "        3: 1  # سیگاری سابق (ترک کرده)\n",
    "    }\n",
    "    df['x_smoker3'] = df['x_smoker3'].map(mapping_dict)\n",
    "    return df\n"
   ]
  },
  {
   "cell_type": "code",
   "execution_count": 14,
   "id": "b904e426",
   "metadata": {},
   "outputs": [
    {
     "name": "stderr",
     "output_type": "stream",
     "text": [
      "C:\\Users\\Armin KHoojavi\\AppData\\Local\\Temp\\ipykernel_7932\\3772864149.py:3: FutureWarning: A value is trying to be set on a copy of a DataFrame or Series through chained assignment using an inplace method.\n",
      "The behavior will change in pandas 3.0. This inplace method will never work because the intermediate object on which we are setting values always behaves as a copy.\n",
      "\n",
      "For example, when doing 'df[col].method(value, inplace=True)', try using 'df.method({col: value}, inplace=True)' or df[col] = df[col].method(value) instead, to perform the operation inplace on the original object.\n",
      "\n",
      "\n",
      "  df['x_smoker3'].replace(values_to_remove, np.nan, inplace=True)\n"
     ]
    }
   ],
   "source": [
    "### year : 2018\n",
    "\n",
    "df2018 = pd.read_stata(\"BRFSS2018.dta\")\n",
    "df2018 = df2018.rename(columns={\"hlthcvr1\":\"hlthpln1\"})\n",
    "cols_in_df = [col for col in replacement_dict.keys() if col in df2018.columns]\n",
    "for col in cols_in_df:\n",
    "    df2018[col] = df2018[col].replace(replacement_dict[col], np.nan)\n",
    "df2018 = df2018.loc[:, res_na]\n",
    "df2018['year'] = 2018\n",
    "df2018 = process_smoker_data(df2018)\n"
   ]
  },
  {
   "cell_type": "code",
   "execution_count": 16,
   "id": "3fdcdd7d",
   "metadata": {},
   "outputs": [
    {
     "name": "stderr",
     "output_type": "stream",
     "text": [
      "C:\\Users\\Armin KHoojavi\\AppData\\Local\\Temp\\ipykernel_7932\\3772864149.py:3: FutureWarning: A value is trying to be set on a copy of a DataFrame or Series through chained assignment using an inplace method.\n",
      "The behavior will change in pandas 3.0. This inplace method will never work because the intermediate object on which we are setting values always behaves as a copy.\n",
      "\n",
      "For example, when doing 'df[col].method(value, inplace=True)', try using 'df.method({col: value}, inplace=True)' or df[col] = df[col].method(value) instead, to perform the operation inplace on the original object.\n",
      "\n",
      "\n",
      "  df['x_smoker3'].replace(values_to_remove, np.nan, inplace=True)\n"
     ]
    }
   ],
   "source": [
    "### year : 2019\n",
    "\n",
    "df2019 = pd.read_stata(\"BRFSS2019.dta\")\n",
    "df2019 = df2019.rename(columns={\"ladult1\":\"cadult\", \"sexvar\":\"sex1\", \"hlthcvr1\":\"hlthpln1\", \"chccopd2\":\"chccopd1\", \"havarth4\":\"havarth3\", \"addepev3\":\"addepev2\",\n",
    "                                \"chckdny2\":\"chckdny1\", \"diabete4\":\"diabete3\"})\n",
    "cols_in_df = [col for col in replacement_dict.keys() if col in df2019.columns]\n",
    "for col in cols_in_df:\n",
    "    df2019[col] = df2019[col].replace(replacement_dict[col], np.nan)\n",
    "df2019 = df2019.loc[:, res_na]\n",
    "df2019['year'] = 2019\n",
    "df2019 = process_smoker_data(df2019)\n"
   ]
  },
  {
   "cell_type": "code",
   "execution_count": 18,
   "id": "a9ec035d",
   "metadata": {},
   "outputs": [
    {
     "name": "stderr",
     "output_type": "stream",
     "text": [
      "C:\\Users\\Armin KHoojavi\\AppData\\Local\\Temp\\ipykernel_7932\\3772864149.py:3: FutureWarning: A value is trying to be set on a copy of a DataFrame or Series through chained assignment using an inplace method.\n",
      "The behavior will change in pandas 3.0. This inplace method will never work because the intermediate object on which we are setting values always behaves as a copy.\n",
      "\n",
      "For example, when doing 'df[col].method(value, inplace=True)', try using 'df.method({col: value}, inplace=True)' or df[col] = df[col].method(value) instead, to perform the operation inplace on the original object.\n",
      "\n",
      "\n",
      "  df['x_smoker3'].replace(values_to_remove, np.nan, inplace=True)\n"
     ]
    }
   ],
   "source": [
    "### year : 2020\n",
    "\n",
    "df2020 = pd.read_stata(\"BRFSS2020.dta\")\n",
    "df2020 = df2020.rename(columns={\"ladult1\":\"cadult\", \"sexvar\":\"sex1\", \"hlthcvr1\":\"hlthpln1\", \"chccopd2\":\"chccopd1\", \"havarth4\":\"havarth3\", \"addepev3\":\"addepev2\",\n",
    "                                \"chckdny2\":\"chckdny1\", \"diabete4\":\"diabete3\"})\n",
    "cols_in_df = [col for col in replacement_dict.keys() if col in df2020.columns]\n",
    "for col in cols_in_df:\n",
    "    df2020[col] = df2020[col].replace(replacement_dict[col], np.nan)\n",
    "df2020 = df2020.loc[:, res_na]\n",
    "df2020['year'] = 2020\n",
    "df2020 = process_smoker_data(df2020)\n"
   ]
  },
  {
   "cell_type": "code",
   "execution_count": 20,
   "id": "7ffda4fd",
   "metadata": {},
   "outputs": [
    {
     "name": "stderr",
     "output_type": "stream",
     "text": [
      "C:\\Users\\Armin KHoojavi\\AppData\\Local\\Temp\\ipykernel_7932\\3772864149.py:3: FutureWarning: A value is trying to be set on a copy of a DataFrame or Series through chained assignment using an inplace method.\n",
      "The behavior will change in pandas 3.0. This inplace method will never work because the intermediate object on which we are setting values always behaves as a copy.\n",
      "\n",
      "For example, when doing 'df[col].method(value, inplace=True)', try using 'df.method({col: value}, inplace=True)' or df[col] = df[col].method(value) instead, to perform the operation inplace on the original object.\n",
      "\n",
      "\n",
      "  df['x_smoker3'].replace(values_to_remove, np.nan, inplace=True)\n"
     ]
    }
   ],
   "source": [
    "### year : 2021\n",
    "\n",
    "df2021 = pd.read_stata(\"BRFSS2021.dta\")\n",
    "df2021 = df2021.rename(columns={\"ladult1\":\"cadult\", \"sexvar\":\"sex1\", \"priminsr\":\"hlthpln1\", \"chccopd3\":\"chccopd1\", \"havarth5\":\"havarth3\", \"addepev3\":\"addepev2\",\n",
    "                                \"chckdny2\":\"chckdny1\", \"diabete4\":\"diabete3\", \"x_incomg1\":\"x_incomg\", \"persdoc3\":\"persdoc2\"})\n",
    "cols_in_df = [col for col in replacement_dict.keys() if col in df2021.columns]\n",
    "for col in cols_in_df:\n",
    "    df2021[col] = df2021[col].replace(replacement_dict[col], np.nan)\n",
    "df2021 = df2021.loc[:, res_na]\n",
    "df2021['year'] = 2021\n",
    "df2021 = process_smoker_data(df2021)\n"
   ]
  },
  {
   "cell_type": "code",
   "execution_count": 22,
   "id": "7f81b640",
   "metadata": {},
   "outputs": [
    {
     "name": "stderr",
     "output_type": "stream",
     "text": [
      "C:\\Users\\Armin KHoojavi\\AppData\\Local\\Temp\\ipykernel_7932\\2864616076.py:3: UnicodeWarning: \n",
      "One or more strings in the dta file could not be decoded using utf-8, and\n",
      "so the fallback encoding of latin-1 is being used.  This can happen when a file\n",
      "has been incorrectly encoded by Stata or some other software. You should verify\n",
      "the string values returned are correct.\n",
      "  df2022 = pd.read_stata(\"BRFSS2022.dta\")\n",
      "C:\\Users\\Armin KHoojavi\\AppData\\Local\\Temp\\ipykernel_7932\\3772864149.py:3: FutureWarning: A value is trying to be set on a copy of a DataFrame or Series through chained assignment using an inplace method.\n",
      "The behavior will change in pandas 3.0. This inplace method will never work because the intermediate object on which we are setting values always behaves as a copy.\n",
      "\n",
      "For example, when doing 'df[col].method(value, inplace=True)', try using 'df.method({col: value}, inplace=True)' or df[col] = df[col].method(value) instead, to perform the operation inplace on the original object.\n",
      "\n",
      "\n",
      "  df['x_smoker3'].replace(values_to_remove, np.nan, inplace=True)\n"
     ]
    }
   ],
   "source": [
    "### year : 2022\n",
    "\n",
    "df2022 = pd.read_stata(\"BRFSS2022.dta\")\n",
    "df2022 = df2022.rename(columns={\"ladult1\":\"cadult\", \"sexvar\":\"sex1\", \"priminsr\":\"hlthpln1\", \"chccopd3\":\"chccopd1\", \"havarth4\":\"havarth3\", \"addepev3\":\"addepev2\",\n",
    "                                \"chckdny2\":\"chckdny1\", \"diabete4\":\"diabete3\", \"alcday4\":\"alcday5\", \"x_mrace2\":\"x_prace1\", \"x_racegr4\":\"x_racegr3\", \"x_incomg1\":\"x_incomg\",\n",
    "                                \"persdoc3\":\"persdoc2\"})\n",
    "cols_in_df = [col for col in replacement_dict.keys() if col in df2022.columns]\n",
    "for col in cols_in_df:\n",
    "    df2022[col] = df2022[col].replace(replacement_dict[col], np.nan)\n",
    "df2022 = df2022.loc[:, res_na]\n",
    "df2022['year'] = 2022\n",
    "df2022 = process_smoker_data(df2022)\n"
   ]
  },
  {
   "cell_type": "code",
   "execution_count": 24,
   "id": "22b06aca",
   "metadata": {},
   "outputs": [
    {
     "name": "stderr",
     "output_type": "stream",
     "text": [
      "C:\\Users\\Armin KHoojavi\\AppData\\Local\\Temp\\ipykernel_7932\\1242420813.py:3: UnicodeWarning: \n",
      "One or more strings in the dta file could not be decoded using utf-8, and\n",
      "so the fallback encoding of latin-1 is being used.  This can happen when a file\n",
      "has been incorrectly encoded by Stata or some other software. You should verify\n",
      "the string values returned are correct.\n",
      "  df2023 = pd.read_stata(\"BRFSS2023.dta\")\n",
      "C:\\Users\\Armin KHoojavi\\AppData\\Local\\Temp\\ipykernel_7932\\3772864149.py:3: FutureWarning: A value is trying to be set on a copy of a DataFrame or Series through chained assignment using an inplace method.\n",
      "The behavior will change in pandas 3.0. This inplace method will never work because the intermediate object on which we are setting values always behaves as a copy.\n",
      "\n",
      "For example, when doing 'df[col].method(value, inplace=True)', try using 'df.method({col: value}, inplace=True)' or df[col] = df[col].method(value) instead, to perform the operation inplace on the original object.\n",
      "\n",
      "\n",
      "  df['x_smoker3'].replace(values_to_remove, np.nan, inplace=True)\n"
     ]
    }
   ],
   "source": [
    "### year : 2023\n",
    "\n",
    "df2023 = pd.read_stata(\"BRFSS2023.dta\")\n",
    "df2023 = df2023.rename(columns={\"ladult1\":\"cadult\", \"sexvar\":\"sex1\", \"primins1\":\"hlthpln1\", \"chccopd3\":\"chccopd1\", \"havarth4\":\"havarth3\", \"addepev3\":\"addepev2\",\n",
    "                                \"chckdny2\":\"chckdny1\", \"diabete4\":\"diabete3\", \"alcday4\":\"alcday5\", \"x_mrace1\":\"x_prace1\", \"x_incomg1\":\"x_incomg\", \"persdoc3\":\"persdoc2\"})\n",
    "\n",
    "cols_in_df = [col for col in replacement_dict.keys() if col in df2023.columns]\n",
    "for col in cols_in_df:\n",
    "    df2023[col] = df2023[col].replace(replacement_dict[col], np.nan)\n",
    "df2023 = df2023.loc[:, res_na]\n",
    "df2023['year'] = 2023\n",
    "df2023 = process_smoker_data(df2023)\n"
   ]
  },
  {
   "cell_type": "code",
   "execution_count": 25,
   "id": "78aeb156",
   "metadata": {},
   "outputs": [
    {
     "data": {
      "text/plain": [
       "(158280, 52)"
      ]
     },
     "execution_count": 25,
     "metadata": {},
     "output_type": "execute_result"
    }
   ],
   "source": [
    "df2023.shape\n"
   ]
  },
  {
   "cell_type": "markdown",
   "id": "64d001b9",
   "metadata": {},
   "source": [
    "# Join section"
   ]
  },
  {
   "cell_type": "code",
   "execution_count": null,
   "id": "d2f22c57",
   "metadata": {},
   "outputs": [
    {
     "data": {
      "text/plain": [
       "(158280, 52)"
      ]
     },
     "execution_count": 27,
     "metadata": {},
     "output_type": "execute_result"
    }
   ],
   "source": [
    "dataframes_by_year = {\n",
    "    2018: df2018,\n",
    "    2019: df2019,\n",
    "    2020: df2020,\n",
    "    2021: df2021,\n",
    "    2022: df2022,\n",
    "    2023: df2023,\n",
    "}\n",
    "\n",
    "processed_dfs = []\n",
    "\n",
    "for year, df in dataframes_by_year.items():\n",
    "    processed_dfs.append(df)\n",
    "\n",
    "df_combined = pd.concat(processed_dfs, ignore_index=True)\n"
   ]
  },
  {
   "cell_type": "code",
   "execution_count": 35,
   "id": "6e968683",
   "metadata": {},
   "outputs": [
    {
     "data": {
      "text/plain": [
       "(993627, 52)"
      ]
     },
     "execution_count": 35,
     "metadata": {},
     "output_type": "execute_result"
    }
   ],
   "source": [
    "df_combined.shape\n"
   ]
  },
  {
   "cell_type": "code",
   "execution_count": 36,
   "id": "a552b379",
   "metadata": {},
   "outputs": [],
   "source": [
    "df_combined.to_csv(\"df.csv\", index=False, encoding='utf-8')\n"
   ]
  },
  {
   "cell_type": "code",
   "execution_count": null,
   "id": "300bf1bb",
   "metadata": {},
   "outputs": [],
   "source": [
    "# !pip install tables pyreadstat\n",
    "\n",
    "# try:\n",
    "#     df_combined.to_stata(\"df.dta\", write_index=False)\n",
    "#     print(f\"فایل DTA با موفقیت در مسیر '{\"df.dta\"}' ذخیره شد.\")\n",
    "\n",
    "# except Exception as e:\n",
    "#     print(f\"خطا در ذخیره به فرمت DTA: {e}\")\n"
   ]
  }
 ],
 "metadata": {
  "kernelspec": {
   "display_name": "base",
   "language": "python",
   "name": "python3"
  },
  "language_info": {
   "codemirror_mode": {
    "name": "ipython",
    "version": 3
   },
   "file_extension": ".py",
   "mimetype": "text/x-python",
   "name": "python",
   "nbconvert_exporter": "python",
   "pygments_lexer": "ipython3",
   "version": "3.12.7"
  }
 },
 "nbformat": 4,
 "nbformat_minor": 5
}
